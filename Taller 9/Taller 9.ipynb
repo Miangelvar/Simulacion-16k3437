{
 "nbformat": 4,
 "nbformat_minor": 0,
 "metadata": {
  "colab": {
   "name": "T9.ipynb",
   "version": "0.3.2",
   "provenance": [],
   "collapsed_sections": []
  },
  "kernelspec": {
   "name": "python3",
   "language": "python",
   "display_name": "Python 3"
  },
  "pycharm": {
   "stem_cell": {
    "cell_type": "raw",
    "source": [],
    "metadata": {
     "collapsed": false
    }
   }
  }
 },
 "cells": [
  {
   "cell_type": "markdown",
   "source": [
    "# Taller 9\n",
    "Calcular la media y varianza muestral para k=100, 1000, 10000.\n"
   ],
   "metadata": {
    "collapsed": false,
    "pycharm": {
     "name": "#%% md\n"
    }
   }
  },
  {
   "cell_type": "code",
   "metadata": {
    "id": "-kmdPElpLLsU",
    "colab_type": "code",
    "colab": {},
    "pycharm": {
     "is_executing": false
    }
   },
   "source": [
    "import math\n",
    "from datetime import datetime\n",
    "\n",
    "class taller_9():\n",
    "        M = 99999\n",
    "        T = 100\n",
    "        t = 0\n",
    "        NLL = 0\n",
    "        NS = 0\n",
    "        n = 0\n",
    "        TSuc = {\"tLL\" : M, \"tS\" : M}\n",
    "        LL = [0]\n",
    "        S = [0]\n",
    "        Serv = [0]\n",
    "        x0_borlandgen = 0\n",
    "        x0_randugen = 0\n",
    "        n_clientes = []\n",
    "\n",
    "        def borlandgen(self):\n",
    "            a = 22695477\n",
    "            c = 1\n",
    "            m = 2**32\n",
    "            xi = (a * self.x0_borlandgen + c) % m\n",
    "            self.x0_borlandgen = xi\n",
    "            u = xi / m\n",
    "            return u\n",
    "\n",
    "        def randugen(self):\n",
    "            a = 65539\n",
    "            c = 0\n",
    "            m = 2**31\n",
    "            xi = (a * self.x0_randugen + c) % m\n",
    "            self.x0_randugen = xi\n",
    "            u = xi / m\n",
    "            return u\n",
    "          \n",
    "        def reset(self):\n",
    "            self.M = 99999\n",
    "            self.T = 100\n",
    "            self.t = 0\n",
    "            self.NLL = 0\n",
    "            self.NS = 0\n",
    "            self.n = 0\n",
    "            self.TSuc = {\"tLL\" : self.M, \"tS\" : self.M}\n",
    "            self.LL = [0]\n",
    "            self.S = [0]\n",
    "            self.Serv = [0]\n",
    "            self.x0_borlandgen = datetime.now().microsecond\n",
    "            self.x0_randugen = datetime.now().microsecond\n",
    "            self.n_clientes = []\n",
    "\n",
    "        def exponencial1(self):\n",
    "            u = self.borlandgen()\n",
    "            x = -(math.log(1-u))/float(3)\n",
    "            return x\n",
    "\n",
    "        def exponencial2(self):\n",
    "            u = self.randugen()\n",
    "            y = -(math.log(1-u))/float(7)\n",
    "            return y\n",
    "\n",
    "        def iniciar_simulacion(self):\n",
    "            self.reset()\n",
    "            X = self.exponencial1()\n",
    "            if X > self.T:\n",
    "                Tp = t_med_sistema =  t_med_cola = 0\n",
    "            else:\n",
    "                self.llegada(X)\n",
    "                while (self.TSuc[\"tLL\"] != self.M) or (self.TSuc[\"tS\"] != self.M):\n",
    "                    if self.TSuc[\"tLL\"] < self.TSuc[\"tS\"]:\n",
    "                        tsuc = self.TSuc[\"tLL\"]\n",
    "                        self.TSuc[\"tLL\"] = self.M\n",
    "                        self.llegada(tsuc)\n",
    "                        \n",
    "                    if self.TSuc[\"tS\"] < self.TSuc[\"tLL\"]:\n",
    "                        tsuc = self.TSuc[\"tS\"]\n",
    "                        self.TSuc[\"tS\"] = self.M\n",
    "                        self.servidor(tsuc)\n",
    "                Tp =  max(0, (self.t - self.T))\n",
    "                acumulo1 = acumulo2 = 0\n",
    "                ind = 0\n",
    "                while ind < self.NLL:\n",
    "                    acumulo1 = acumulo1 + self.S[ind] - self.LL[ind]\n",
    "                    acumulo2 = acumulo2 + self.S[ind] - self.LL[ind] - self.Serv[ind]\n",
    "                    ind += 1\n",
    "                t_med_sistema = acumulo1/self.NLL\n",
    "                t_med_cola = acumulo2/self.NLL\n",
    "            return t_med_cola\n",
    "            \n",
    "                \n",
    "        def llegada(self, tsuc):\n",
    "            self.t = tsuc\n",
    "            self.n += 1\n",
    "            self.n_clientes.append(self.n)\n",
    "            self.NLL += 1\n",
    "            self.LL.insert(self.NLL, self.t)\n",
    "            X = self.exponencial1()\n",
    "            if (self.t + X) < self.T:\n",
    "                self.TSuc[\"tLL\"] = self.t + X\n",
    "            if self.n == 1:\n",
    "                Y = self.exponencial2()\n",
    "                self.TSuc[\"tS\"] = self.t + Y\n",
    "                self.Serv.insert((self.NS-1), Y)\n",
    "        \n",
    "        def servidor(self, tsuc):\n",
    "            self.t = tsuc\n",
    "            self.n -= 1\n",
    "            self.n_clientes.append(self.n)\n",
    "            self.NS += 1\n",
    "            self.S.insert(self.NS, self.t)\n",
    "            if self.n > 0:\n",
    "                Y = self.exponencial2()\n",
    "                self.TSuc[\"tS\"] = self.t + Y\n",
    "                self.Serv.insert(self.NS, Y)"
   ],
   "execution_count": 7,
   "outputs": []
  },
  {
   "cell_type": "code",
   "metadata": {
    "id": "FgmRj7-Skfyn",
    "colab_type": "code",
    "colab": {},
    "pycharm": {
     "is_executing": false
    }
   },
   "source": [
    "def varianza(x):\n",
    "  x_prom = [x[0]]\n",
    "  x_var = [0]\n",
    "  for j in range(len(x)-1):\n",
    "    xj_prom =  x_prom[j] + ((x[j+1] - x_prom[j])/(j + 2))\n",
    "    x_prom.append(xj_prom)\n",
    "    xj_var =  ((1-(1/(j+1)))*x_var[j]) + ((j+2)*((x_prom[j+1]-x_prom[j])**2))\n",
    "    x_var.append(xj_var)\n",
    "  return {\"promedio\": x_prom[-1], \"varianza\": x_var[-1]}"
   ],
   "execution_count": 8,
   "outputs": []
  },
  {
   "cell_type": "code",
   "metadata": {
    "id": "enGgLe2Xv-o7",
    "colab_type": "code",
    "colab": {
     "base_uri": "https://localhost:8080/",
     "height": 34
    },
    "outputId": "649d26ef-ce51-42d7-e9e6-892e3caa9f0a",
    "executionInfo": {
     "status": "ok",
     "timestamp": 1563386576893,
     "user_tz": 300,
     "elapsed": 1514,
     "user": {
      "displayName": "CESAR AUGUSTO PARRADO FAJARDO",
      "photoUrl": "",
      "userId": "08895562016899106980"
     }
    },
    "pycharm": {
     "is_executing": false
    }
   },
   "source": [
    "X = []\n",
    "k = 100\n",
    "cola_obj = taller_9()\n",
    "for i in range(k):\n",
    "  t_med_cola = cola_obj.iniciar_simulacion()\n",
    "  X.append(t_med_cola)\n",
    "resultado = varianza(X)\n",
    "print(\"K = \", k)\n",
    "print(\"Promedio = \", resultado[\"promedio\"])\n",
    "print(\"Varianza = \", resultado[\"varianza\"])"
   ],
   "execution_count": 9,
   "outputs": [
    {
     "name": "stdout",
     "text": [
      "K =  100\nPromedio =  0.10316116400168684\nVarianza =  0.0008688841248287974\n"
     ],
     "output_type": "stream"
    }
   ]
  },
  {
   "cell_type": "code",
   "metadata": {
    "id": "o9_PPex0zitk",
    "colab_type": "code",
    "colab": {
     "base_uri": "https://localhost:8080/",
     "height": 34
    },
    "outputId": "11e237fa-6056-4e29-a2c3-7c1c64ed8852",
    "executionInfo": {
     "status": "ok",
     "timestamp": 1563386578817,
     "user_tz": 300,
     "elapsed": 3403,
     "user": {
      "displayName": "CESAR AUGUSTO PARRADO FAJARDO",
      "photoUrl": "",
      "userId": "08895562016899106980"
     }
    },
    "pycharm": {
     "name": "#%%\n",
     "is_executing": false
    }
   },
   "source": [
    "X = []\n",
    "k = 1000\n",
    "cola_obj = taller_9()\n",
    "for i in range(k):\n",
    "  t_med_cola = cola_obj.iniciar_simulacion()\n",
    "  X.append(t_med_cola)\n",
    "resultado = varianza(X)\n",
    "print(\"K = \", k)\n",
    "print(\"Promedio = \", resultado[\"promedio\"])\n",
    "print(\"Varianza = \", resultado[\"varianza\"])\n"
   ],
   "execution_count": 10,
   "outputs": [
    {
     "name": "stdout",
     "text": [
      "K =  1000\nPromedio =  0.10743642320787894\nVarianza =  0.0010378168316612089\n"
     ],
     "output_type": "stream"
    }
   ]
  },
  {
   "cell_type": "code",
   "execution_count": 11,
   "outputs": [
    {
     "name": "stdout",
     "text": [
      "K =  10000\nPromedio =  0.10531436691522288\nVarianza =  0.0009445336523892513\n"
     ],
     "output_type": "stream"
    }
   ],
   "source": [
    "X = []\n",
    "k = 10000\n",
    "cola_obj = taller_9()\n",
    "for i in range(k):\n",
    "  t_med_cola = cola_obj.iniciar_simulacion()\n",
    "  X.append(t_med_cola)\n",
    "resultado = varianza(X)\n",
    "print(\"K = \", k)\n",
    "print(\"Promedio = \", resultado[\"promedio\"])\n",
    "print(\"Varianza = \", resultado[\"varianza\"])"
   ],
   "metadata": {
    "collapsed": false,
    "pycharm": {
     "name": "#%%\n",
     "is_executing": false
    }
   }
  }
 ]
}