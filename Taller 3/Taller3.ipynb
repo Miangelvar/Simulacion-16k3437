{
 "cells": [
  {
   "cell_type": "markdown",
   "metadata": {
    "collapsed": true
   },
   "source": [
    "# Taller 3\n",
    "Para el taller se usará un generador lineal congruencial mixto con los parámetros que usa el generador de Borland C++"
   ]
  },
  {
   "cell_type": "code",
   "execution_count": 11,
   "metadata": {},
   "outputs": [],
   "source": [
    "from time import time_ns\n",
    "\n",
    "seed = time_ns()\n",
    "def mcg():   \n",
    "    global seed\n",
    "    a = 22695477\n",
    "    c = 1\n",
    "    m = 2 ** 32\n",
    "    seed = (a * seed + c) % m\n",
    "    return ((a * seed + c) % m) / m\n"
   ]
  },
  {
   "cell_type": "markdown",
   "metadata": {},
   "source": [
    "##  1. Implementar los métodos para calcular integrales definidas en el intervalo [0,1], [a,b] y [0, Inf)"
   ]
  },
  {
   "cell_type": "markdown",
   "metadata": {},
   "source": [
    "### Caso I y II: Intervalo [0,1] y [a,b]"
   ]
  },
  {
   "cell_type": "code",
   "execution_count": 23,
   "metadata": {
    "scrolled": true
   },
   "outputs": [
    {
     "name": "stdout",
     "output_type": "stream",
     "text": [
      "Área de la integral e^x de 0 a 5 con 10000 iteraciones: 148.397018023693\n",
      "Área real: 147.41315910257657\n",
      "Error porcentual: 0.6674159397342605%\n"
     ]
    }
   ],
   "source": [
    "import math\n",
    "\n",
    "def montecarlo_ab(expression, a, b, n):\n",
    "    valorEsperado = 0\n",
    "    for i in range(n):\n",
    "        u = mcg()\n",
    "        x = a + (b - a) * u;\n",
    "        valorEsperado += (b - a) * eval(expression)\n",
    "    return valorEsperado / n\n",
    "\n",
    "real_value = math.e ** 5 - 1\n",
    "simulated_value = montecarlo_ab(\"math.exp(x)\", 0, 5, 10000)\n",
    "print(\"Área de la integral e^x de 0 a 5 con 10000 iteraciones: {}\".format(simulated_value))\n",
    "print(\"Área real: {}\".format(real_value))\n",
    "print(\"Error porcentual: {}%\".format(abs((real_value - simulated_value) / real_value)* 100))\n",
    "\n",
    "    "
   ]
  },
  {
   "cell_type": "markdown",
   "metadata": {},
   "source": [
    "### Caso III: Intervalo [0, inf]"
   ]
  },
  {
   "cell_type": "code",
   "execution_count": 34,
   "metadata": {},
   "outputs": [
    {
     "name": "stdout",
     "output_type": "stream",
     "text": [
      "Área de la integral e^(-x^2) de 0 a infinito con 10000 iteraciones: 0.8838609842980412\n",
      "Área real: 0.8862269254527579\n",
      "Error porcentual: 0.2669678709556313%\n"
     ]
    }
   ],
   "source": [
    "def montecarlo_inf(expression, n):\n",
    "    valorEsperado = 0\n",
    "    for i in range(n):\n",
    "        u = mcg()\n",
    "        x = 1 / u - 1;\n",
    "        valorEsperado += (1 / u ** 2) * eval(expression)\n",
    "    return valorEsperado / n\n",
    "\n",
    "\n",
    "real_value = math.sqrt((math.pi)) / 2\n",
    "simulated_value = montecarlo_inf(\"math.exp(-x ** 2)\", 10000)\n",
    "print(\"Área de la integral e^(-x^2) de 0 a infinito con 10000 iteraciones: {}\".format(simulated_value))\n",
    "print(\"Área real: {}\".format(real_value))\n",
    "print(\"Error porcentual: {}%\".format(abs((real_value - simulated_value) / real_value)* 100))\n"
   ]
  },
  {
   "cell_type": "markdown",
   "metadata": {},
   "source": [
    "### La estimación de PI"
   ]
  },
  {
   "cell_type": "code",
   "execution_count": null,
   "metadata": {},
   "outputs": [],
   "source": []
  }
 ],
 "metadata": {
  "kernelspec": {
   "display_name": "Python 3",
   "language": "python",
   "name": "python3"
  },
  "language_info": {
   "codemirror_mode": {
    "name": "ipython",
    "version": 3
   },
   "file_extension": ".py",
   "mimetype": "text/x-python",
   "name": "python",
   "nbconvert_exporter": "python",
   "pygments_lexer": "ipython3",
   "version": "3.7.3"
  }
 },
 "nbformat": 4,
 "nbformat_minor": 1
}
