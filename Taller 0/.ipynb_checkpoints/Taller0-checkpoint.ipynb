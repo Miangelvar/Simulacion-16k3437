{
 "cells": [
  {
   "cell_type": "markdown",
   "metadata": {
    "scrolled": true
   },
   "source": [
    "# Taller 0"
   ]
  },
  {
   "cell_type": "markdown",
   "metadata": {},
   "source": [
    "## 1. Método de montecarlo para el cálculo de áreas."
   ]
  },
  {
   "cell_type": "code",
   "execution_count": 1,
   "metadata": {},
   "outputs": [
    {
     "name": "stdout",
     "output_type": "stream",
     "text": [
      "Número de iteraciones: 10000\n",
      "Area: 0.8857639246469298\n"
     ]
    }
   ],
   "source": [
    "from random import uniform\n",
    "from math import exp\n",
    "\n",
    "def montecarlo(n):\n",
    "    suma = 0.0\n",
    "    for i in range(n):\n",
    "        x = uniform(0, 2)\n",
    "        y = 2 * exp(-x * x)\n",
    "        suma = suma + y\n",
    "    return suma / n\n",
    "\n",
    "\n",
    "num = int(input(\"Número de iteraciones: \"))\n",
    "area1 = montecarlo(num)\n",
    "print(\"Area: \" + str(area1))\n"
   ]
  },
  {
   "cell_type": "markdown",
   "metadata": {},
   "source": [
    "## 2. Método del trapecio para el cálculo de áreas."
   ]
  },
  {
   "cell_type": "code",
   "execution_count": 2,
   "metadata": {},
   "outputs": [
    {
     "name": "stdout",
     "output_type": "stream",
     "text": [
      "Tamaño del paso: 0.0001\n",
      "Área: 0.8820850530967234\n"
     ]
    }
   ],
   "source": [
    "from math import exp\n",
    "\n",
    "\n",
    "def trapecio(dx):\n",
    "    suma = 0.0\n",
    "    increment = 0.0\n",
    "    while increment <= 2:\n",
    "        increment = increment + dx\n",
    "        suma = suma + exp(-increment * increment)\n",
    "    area = (dx / 2) * (1 + 2 * suma + exp(-4))\n",
    "    return area\n",
    "\n",
    "\n",
    "dx = float(input(\"Tamaño del paso: \"))\n",
    "area2 = trapecio(dx)\n",
    "print(\"Área: \" + str(area2))"
   ]
  },
  {
   "cell_type": "markdown",
   "metadata": {},
   "source": [
    "## 3. Comparación entre el método Montecarlo y Trapecio"
   ]
  },
  {
   "cell_type": "code",
   "execution_count": 3,
   "metadata": {},
   "outputs": [
    {
     "name": "stdout",
     "output_type": "stream",
     "text": [
      "Diferencia entre las áreas: 0.0036788715502064084\n"
     ]
    }
   ],
   "source": [
    "def comparar(montecarlo, trapecio):\n",
    "    return abs(montecarlo - trapecio)\n",
    "print(\"Diferencia entre las áreas: \" + str(comparar(area1, area2)))"
   ]
  },
  {
   "cell_type": "code",
   "execution_count": null,
   "metadata": {},
   "outputs": [],
   "source": [
    "\n"
   ]
  }
 ],
 "metadata": {
  "kernelspec": {
   "display_name": "Python 3",
   "language": "python",
   "name": "python3"
  },
  "language_info": {
   "codemirror_mode": {
    "name": "ipython",
    "version": 3
   },
   "file_extension": ".py",
   "mimetype": "text/x-python",
   "name": "python",
   "nbconvert_exporter": "python",
   "pygments_lexer": "ipython3",
   "version": "3.7.3"
  }
 },
 "nbformat": 4,
 "nbformat_minor": 2
}
