{
 "cells": [
  {
   "cell_type": "code",
   "execution_count": 1,
   "metadata": {
    "scrolled": true
   },
   "outputs": [
    {
     "name": "stdout",
     "output_type": "stream",
     "text": [
      "Número de iteraciones: 10000\n",
      "0.88769510976082\n"
     ]
    }
   ],
   "source": [
    "from random import uniform\n",
    "from math import exp\n",
    "\n",
    "k = int(input(\"Número de iteraciones: \"))\n",
    "suma = 0.0\n",
    "for i in range(k):\n",
    "    x = uniform(0, 2)\n",
    "    y = 2 * exp(-x * x)\n",
    "    suma = suma + y\n",
    "print(suma / k)"
   ]
  },
  {
   "cell_type": "code",
   "execution_count": 2,
   "metadata": {},
   "outputs": [
    {
     "name": "stdout",
     "output_type": "stream",
     "text": [
      "Número de trapecios: 10\n",
      "0.8855019385765222\n"
     ]
    }
   ],
   "source": [
    "n = int(input(\"Número de trapecios: \"))\n",
    "dx = 2 / n\n",
    "suma = 0.0\n",
    "increment = 0.0\n",
    "for i in range(n):\n",
    "    increment = increment + dx\n",
    "    suma = suma + exp(-increment * increment)\n",
    "area = (dx / 2) * (1 + 2 * suma + exp(-4))\n",
    "print(area)"
   ]
  },
  {
   "cell_type": "code",
   "execution_count": null,
   "metadata": {},
   "outputs": [],
   "source": []
  }
 ],
 "metadata": {
  "kernelspec": {
   "display_name": "Python 3",
   "language": "python",
   "name": "python3"
  },
  "language_info": {
   "codemirror_mode": {
    "name": "ipython",
    "version": 3
   },
   "file_extension": ".py",
   "mimetype": "text/x-python",
   "name": "python",
   "nbconvert_exporter": "python",
   "pygments_lexer": "ipython3",
   "version": "3.7.3"
  }
 },
 "nbformat": 4,
 "nbformat_minor": 2
}
