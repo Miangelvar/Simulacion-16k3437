{
 "cells": [
  {
   "cell_type": "markdown",
   "metadata": {
    "collapsed": true,
    "pycharm": {
     "name": "#%% md\n"
    }
   },
   "source": [
    "# Taller 5 <br>\n",
    "Implementar en <b>Notebook Jupyter</b> una Sistema de línea de espera con un servidor (Modelo de colas G/G/1) \n"
   ]
  },
  {
   "cell_type": "code",
   "execution_count": 3,
   "outputs": [
    {
     "data": {
      "text/plain": "<Figure size 432x288 with 1 Axes>",
      "image/png": "[encoded data removed]"
     },
     "metadata": {
      "needs_background": "light"
     },
     "output_type": "display_data"
    },
    {
     "data": {
      "text/plain": "<Figure size 432x288 with 1 Axes>",
      "image/png": "[encoded data removed]"
     },
     "metadata": {
      "needs_background": "light"
     },
     "output_type": "display_data"
    },
    {
     "name": "stdout",
     "text": [
      "Tasa de llegada [5, 1, 1, 5, 1, 3, 3, 4, 1, 4]\n",
      "t   N llegada   N en cola   Atendidosxservidor   Cliente en Sistema\n  \n0        5        0.00          0.00                    5\n1        1        5.00          2.75                    6\n2        1        3.25          4.48                    4\n3        5        0.00          6.08                    5\n4        1        0.00          5.65                    1\n5        3        0.00          0.00                    3\n6        3        3.00          0.00                    6\n7        4        6.00          7.03                    10\n8        1        2.97          0.00                    3\n9        4        3.97          12.72                    7\nTiempo promedio en cola: 12.86 Minutos\nTiempo promedio en sistema: 6.90 Minutos\nTiempo promedio en servidor: 9.30 Minutos\n"
     ],
     "output_type": "stream"
    },
    {
     "data": {
      "text/plain": "<Figure size 432x288 with 1 Axes>",
      "image/png": "[encoded data removed]"
     },
     "metadata": {
      "needs_background": "light"
     },
     "output_type": "display_data"
    }
   ],
   "source": [
    "import numpy as np\n",
    "import scipy as sp\n",
    "import matplotlib.pyplot as plt\n",
    "import math\n",
    "from scipy.integrate import quad\n",
    "\n",
    "l=3\n",
    "k=10\n",
    "a=[]\n",
    "acum=[]\n",
    "invepoi=[]\n",
    "plt.subplot(3,1,1)\n",
    "def poisson():\n",
    "    for i in range(k):\n",
    "        f=(math.exp(-l)*l**i)/math.factorial(i)\n",
    "        a.append(f)\n",
    "    return a\n",
    "plt.plot(poisson(),marker=\"o\",linestyle=\"--\")\n",
    "plt.show()\n",
    "plt.subplot(3,1,2)\n",
    "\n",
    "def acumupoisson():\n",
    "    g=0\n",
    "    for i in range(k):\n",
    "        g=a[i]+g\n",
    "        acum.append(g)\n",
    "    return acum\n",
    "plt.plot(acumupoisson())\n",
    "plt.show()\n",
    "plt.subplot(3,1,3)\n",
    "\n",
    "def aleatorios(al):\n",
    "    xo=al\n",
    "    ga=[]\n",
    "    for i in range(k):\n",
    "        mod=(223*xo+23)%829\n",
    "        ui=float(mod)/829\n",
    "        xo=mod\n",
    "        ga.append(ui)\n",
    "    #print(ga)\n",
    "    return ga\n",
    "\n",
    "def inverpoisson():\n",
    "    ga=aleatorios(7)\n",
    "    for i in range(k):\n",
    "        for j in range(k):\n",
    "            if ga[i]<acum[j]:\n",
    "                invepoi.append(j)\n",
    "                break\n",
    "    print(\"Tasa de llegada\",invepoi)\n",
    "    return invepoi\n",
    "\n",
    "\n",
    "inp=inverpoisson()\n",
    "plt.plot(inp)\n",
    "plt.show()\n",
    "\n",
    "\n",
    "#normal\n",
    "o=1\n",
    "u=1\n",
    "\n",
    "def invnormal():\n",
    "    invn=[]\n",
    "    gan=aleatorios(19)\n",
    "    for i in range(k):\n",
    "        x=(2*gan[i])-1\n",
    "        pr=2/float(math.sqrt(math.pi))\n",
    "        y,e=quad(lambda t: math.exp(-t**2),0,x)\n",
    "        error=pr*y\n",
    "        inver=u+(o*math.sqrt(2)*(1/error))\n",
    "        if(inver<0):\n",
    "            inver=0\n",
    "        invn.append(inver)\n",
    "    return invn\n",
    "gg=invnormal()\n",
    "\n",
    "\n",
    "\n",
    "#numero de clientes en cola\n",
    "cc=[]\n",
    "ll=0\n",
    "def cliencola(ll):\n",
    "    cc.append(ll)\n",
    "    for i in range(k-1):\n",
    "        ll=(inp[i]+ll)-gg[i]\n",
    "        if ll<0:\n",
    "            ll=0\n",
    "        cc.append(ll)\n",
    "    return cc\n",
    "x=cliencola(ll)\n",
    "\n",
    "        \n",
    "\n",
    "\n",
    "#numero de horas=6\n",
    "print(\"t\", \"  N llegada\",\"  N en cola\",\"  Atendidosxservidor\",\"  Cliente en Sistema\")\n",
    "print(\"  \")\n",
    "for i in range(k):\n",
    "    print(i, \"      \",invepoi[i]  ,  \"      \", \"{0:.2f}\".format(x[i]),\"        \" ,\"{0:.2f}\".format(gg[i]),\"                  \" ,int(invepoi[i]+x[i]))\n",
    "def tpcola():\n",
    "    s=0\n",
    "    for i in range(k):\n",
    "        \n",
    "        s=invepoi[i]+s\n",
    "    #print(s)\n",
    "    z=(6/float(s))*60\n",
    "    print(\"Tiempo promedio en cola:\",\"{0:.2f}\".format(z), \"Minutos\")\n",
    "    return s\n",
    "f=tpcola()   \n",
    "def tpsistema():\n",
    "    ss=0\n",
    "    for i in range(k):\n",
    "        ss=(invepoi[i]+x[i])+ss\n",
    "    #print(s)\n",
    "    zi=(6/float(ss))*60\n",
    "    print(\"Tiempo promedio en sistema:\",\"{0:.2f}\".format(zi), \"Minutos\")\n",
    "    return ss\n",
    "fg=tpsistema()  \n",
    "def tpservidor():\n",
    "    ser=0\n",
    "    for i in range(k):\n",
    "        ser=gg[i]+ser\n",
    "    #print(s)\n",
    "    ze=(6/float(ser))*60\n",
    "    print(\"Tiempo promedio en servidor:\",\"{0:.2f}\".format(ze), \"Minutos\")\n",
    "    return ser\n",
    "fk=tpservidor() \n",
    "\n",
    "\n",
    "\n",
    "\n",
    "\n"
   ],
   "metadata": {
    "collapsed": false,
    "pycharm": {
     "name": "#%%\n",
     "is_executing": false
    }
   }
  }
 ],
 "metadata": {
  "language_info": {
   "codemirror_mode": {
    "name": "ipython",
    "version": 2
   },
   "file_extension": ".py",
   "mimetype": "text/x-python",
   "name": "python",
   "nbconvert_exporter": "python",
   "pygments_lexer": "ipython2",
   "version": "2.7.6"
  },
  "kernelspec": {
   "name": "python3",
   "language": "python",
   "display_name": "Python 3"
  },
  "pycharm": {
   "stem_cell": {
    "cell_type": "raw",
    "source": [],
    "metadata": {
     "collapsed": false
    }
   }
  }
 },
 "nbformat": 4,
 "nbformat_minor": 0
}