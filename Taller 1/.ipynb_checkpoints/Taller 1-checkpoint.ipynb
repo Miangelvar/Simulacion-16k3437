{
 "cells": [
  {
   "cell_type": "markdown",
   "metadata": {},
   "source": [
    "# Taller 1"
   ]
  },
  {
   "cell_type": "markdown",
   "metadata": {},
   "source": [
    "## 1. Método de Cuadrados Medios para generación de números aleatorios\n",
    "\n",
    "- 1.1. Explicación de la función midsquare\n",
    "  - 1.1.1. Parametros\n",
    "        La función recibe como parametros:\n",
    "            x: Un número entero positivo de 2N cifras\n",
    "            n: Un número entero positivo que corresponde a N\n",
    "  - 1.1.2. Retorno:\n",
    "            Un número aleatorio de 2N cifras\n",
    "  - 1.1.3 Funcionamiento\n",
    "            El procedimiento consiste en las siguientes instrucciones:\n",
    "            -Elevar el número al cuadrado           \n",
    "            -Realizar un corrimiento en base 10 hacia la derecha n veces\n",
    "            -Eliminar los n dígitos restantes de la izquierda usando la función módulo de 10^(2 * n)\n",
    "- 1.2. Misceláneos\n",
    "  - 1.2.1. El valor de N\n",
    "            El valor de N se deduce del número semilla partiendo de la premisa que dicho número se encuentra escrito \n",
    "            en base 10, de modo que para obtener el número de cifras se usó log10(semilla) y se partió a la mitad\n",
    "            teniendo en cuenta que la semilla contiene una cantidad par de dígitos\n",
    "            "
   ]
  },
  {
   "cell_type": "code",
   "execution_count": 9,
   "metadata": {
    "scrolled": true
   },
   "outputs": [
    {
     "name": "stdout",
     "output_type": "stream",
     "text": [
      "Semilla x0 (2N dígitos): 3708\n",
      "Cantidad de números aleatorios a generar: 10\n",
      "x1: 7492\n",
      "u1: 0.7492\n",
      "x2: 1300\n",
      "u2: 0.13\n",
      "x3: 6900\n",
      "u3: 0.69\n",
      "x4: 6100\n",
      "u4: 0.61\n",
      "x5: 2100\n",
      "u5: 0.21\n",
      "x6: 4100\n",
      "u6: 0.41\n",
      "x7: 8100\n",
      "u7: 0.81\n",
      "x8: 6100\n",
      "u8: 0.61\n",
      "x9: 2100\n",
      "u9: 0.21\n",
      "x10: 4100\n",
      "u10: 0.41\n"
     ]
    }
   ],
   "source": [
    "from math import log10\n",
    "from math import floor\n",
    "\n",
    "\n",
    "def midsquare(x, n):\n",
    "    x = x * x\n",
    "    x = floor(x / (10 ** n))\n",
    "    x = x % (10 ** (2 * n))\n",
    "    return x\n",
    "\n",
    "\n",
    "seed = int(input(\"Semilla x0 (2N dígitos): \"))\n",
    "amount = int(input(\"Cantidad de números aleatorios a generar: \"))\n",
    "n = floor((log10(seed) + 1) / 2)\n",
    "for i in range(amount):\n",
    "    print(\"x\" + str(i+1) + \": \" + str(midsquare(seed, n)))\n",
    "    print(\"u\" + str(i+1) + \": \" + str(midsquare(seed, n) / (10 ** (2 * n))))\n",
    "    seed = midsquare(seed, n)"
   ]
  },
  {
   "cell_type": "markdown",
   "metadata": {},
   "source": [
    "## 2. Generador Congruencial Mixto para generación de números aleatorios"
   ]
  },
  {
   "cell_type": "code",
   "execution_count": null,
   "metadata": {},
   "outputs": [],
   "source": [
    "a = 1025\n",
    "c = 15\n",
    "modulo = 2048\n",
    "x = int(input(\"Semilla: \"))\n",
    "x = (a * x + c) % modulo\n",
    "print(\"Número aleatorio: \" + str(x))\n",
    "print(\"Variable aleatoria: \" + str(x / modulo))"
   ]
  },
  {
   "cell_type": "code",
   "execution_count": null,
   "metadata": {},
   "outputs": [],
   "source": []
  }
 ],
 "metadata": {
  "kernelspec": {
   "display_name": "Python 3",
   "language": "python",
   "name": "python3"
  },
  "language_info": {
   "codemirror_mode": {
    "name": "ipython",
    "version": 3
   },
   "file_extension": ".py",
   "mimetype": "text/x-python",
   "name": "python",
   "nbconvert_exporter": "python",
   "pygments_lexer": "ipython3",
   "version": "3.7.3"
  }
 },
 "nbformat": 4,
 "nbformat_minor": 2
}
