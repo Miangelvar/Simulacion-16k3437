{
 "cells": [
  {
   "cell_type": "markdown",
   "metadata": {},
   "source": [
    "# Taller 1"
   ]
  },
  {
   "cell_type": "markdown",
   "metadata": {},
   "source": [
    "## Funciones implementadas."
   ]
  },
  {
   "cell_type": "code",
   "execution_count": 7,
   "metadata": {},
   "outputs": [],
   "source": [
    "from math import log10\n",
    "from math import floor\n",
    "\n",
    "\n",
    "def midsquare(x, n):\n",
    "    x = x * x\n",
    "    x = floor(x / (10 ** n))\n",
    "    x = x % (10 ** (2 * n))\n",
    "    return x\n",
    "\n",
    "\n",
    "def lcg(x, a, c, modulo):\n",
    "    return (a * x + c) % modulo\n",
    "\n",
    "\n",
    "def calcular_periodo_midsquare(x):\n",
    "    lista = []\n",
    "    n = floor((log10(x) + 1) / 2)\n",
    "    while True:\n",
    "        x = midsquare(x, n)\n",
    "        if x in lista:\n",
    "            break\n",
    "        else:\n",
    "            lista.append(x)\n",
    "    return len(lista)\n",
    "\n",
    "\n",
    "def calcular_periodo_lcg(x, a, c, modulo):\n",
    "    lista = []\n",
    "    while True:\n",
    "        x = lcg(x, a, c, modulo)\n",
    "        if x in lista:\n",
    "            break\n",
    "        else:\n",
    "            lista.append(x)\n",
    "    return len(lista)"
   ]
  },
  {
   "cell_type": "markdown",
   "metadata": {},
   "source": [
    "## 1. Método de Cuadrados Medios para generación de números aleatorios           "
   ]
  },
  {
   "cell_type": "code",
   "execution_count": 3,
   "metadata": {
    "scrolled": true
   },
   "outputs": [
    {
     "name": "stdout",
     "output_type": "stream",
     "text": [
      "Semilla x0 (2N dígitos): 293741\n",
      "Cantidad de números aleatorios a generar: 10\n",
      "x1: 283775\n",
      "u1: 0.283775\n",
      "x2: 528250\n",
      "u2: 0.52825\n",
      "x3: 48062\n",
      "u3: 0.048062\n",
      "x4: 309955\n",
      "u4: 0.309955\n",
      "x5: 72102\n",
      "u5: 0.072102\n",
      "x6: 198698\n",
      "u6: 0.198698\n",
      "x7: 480895\n",
      "u7: 0.480895\n",
      "x8: 260001\n",
      "u8: 0.260001\n",
      "x9: 600520\n",
      "u9: 0.60052\n",
      "x10: 624270\n",
      "u10: 0.62427\n"
     ]
    }
   ],
   "source": [
    "seed = int(input(\"Semilla x0 (2N dígitos): \"))\n",
    "amount = int(input(\"Cantidad de números aleatorios a generar: \"))\n",
    "n = floor((log10(seed) + 1) / 2)\n",
    "for i in range(amount):\n",
    "    print(\"x\" + str(i+1) + \": \" + str(midsquare(seed, n)))\n",
    "    print(\"u\" + str(i+1) + \": \" + str(midsquare(seed, n) / (10 ** (2 * n))))\n",
    "    seed = midsquare(seed, n)"
   ]
  },
  {
   "cell_type": "markdown",
   "metadata": {},
   "source": [
    "## 2. Generador Congruencial Mixto para generación de números aleatorios"
   ]
  },
  {
   "cell_type": "code",
   "execution_count": 4,
   "metadata": {},
   "outputs": [
    {
     "name": "stdout",
     "output_type": "stream",
     "text": [
      "Semilla: 15\n",
      "Número de variables a generar: 10\n",
      "Factor multiplicador: 12345\n",
      "Factor incremento:  127\n",
      "Módulo: 65536\n",
      "Número aleatorio: 54230\n",
      "Variable aleatoria: 0.827484130859375\n",
      "Número aleatorio: 19237\n",
      "Variable aleatoria: 0.2935333251953125\n",
      "Número aleatorio: 43964\n",
      "Variable aleatoria: 0.67083740234375\n",
      "Número aleatorio: 32091\n",
      "Variable aleatoria: 0.4896697998046875\n",
      "Número aleatorio: 63938\n",
      "Variable aleatoria: 0.975616455078125\n",
      "Número aleatorio: 64689\n",
      "Variable aleatoria: 0.9870758056640625\n",
      "Número aleatorio: 29672\n",
      "Variable aleatoria: 0.4527587890625\n",
      "Número aleatorio: 20263\n",
      "Variable aleatoria: 0.3091888427734375\n",
      "Número aleatorio: 61486\n",
      "Variable aleatoria: 0.938201904296875\n",
      "Número aleatorio: 6845\n",
      "Variable aleatoria: 0.1044464111328125\n"
     ]
    }
   ],
   "source": [
    "seed = int(input(\"Semilla: \"))\n",
    "n = int(input(\"Número de variables a generar: \"))\n",
    "a = int(input(\"Factor multiplicador: \"))\n",
    "c = int(input(\"Factor incremento:  \"))\n",
    "modulo = int(input(\"Módulo: \"))\n",
    "for i in range(n):\n",
    "    x = lcg(seed, a, c, modulo)\n",
    "    print(\"Número aleatorio: \" + str(x))\n",
    "    print(\"Variable aleatoria: \" + str(x/modulo))\n",
    "    seed = x"
   ]
  },
  {
   "cell_type": "markdown",
   "metadata": {},
   "source": [
    "## 3. Implementar una función para calcular el período de cualquier generador de números pseudoaleatorios."
   ]
  },
  {
   "cell_type": "code",
   "execution_count": 5,
   "metadata": {
    "scrolled": true
   },
   "outputs": [
    {
     "name": "stdout",
     "output_type": "stream",
     "text": [
      "Semilla para el método Midsquare: 1212\n",
      "El periodo es 54\n"
     ]
    }
   ],
   "source": [
    "periodo = calcular_periodo_midsquare(int(input(\"Semilla para el método Midsquare: \")))\n",
    "print(\"El periodo es \" + str(periodo))"
   ]
  },
  {
   "cell_type": "code",
   "execution_count": 11,
   "metadata": {
    "scrolled": false
   },
   "outputs": [
    {
     "name": "stdout",
     "output_type": "stream",
     "text": [
      "Semilla: 10\n",
      "Factor multiplicador: 17\n",
      "Factor incremento:  15\n",
      "Modulo: 256\n",
      "El periodo es 256\n"
     ]
    }
   ],
   "source": [
    "x = int(input(\"Semilla: \"))\n",
    "a = int(input(\"Factor multiplicador: \"))\n",
    "c = int(input(\"Factor incremento:  \"))\n",
    "modulo = int(input(\"Modulo: \"))\n",
    "periodo = calcular_periodo_lcg(x, a, c, modulo)\n",
    "print(\"El periodo es \" + str(periodo))"
   ]
  },
  {
   "cell_type": "code",
   "execution_count": null,
   "metadata": {},
   "outputs": [],
   "source": []
  }
 ],
 "metadata": {
  "kernelspec": {
   "display_name": "Python 3",
   "language": "python",
   "name": "python3"
  },
  "language_info": {
   "codemirror_mode": {
    "name": "ipython",
    "version": 3
   },
   "file_extension": ".py",
   "mimetype": "text/x-python",
   "name": "python",
   "nbconvert_exporter": "python",
   "pygments_lexer": "ipython3",
   "version": "3.7.3"
  }
 },
 "nbformat": 4,
 "nbformat_minor": 2
}
