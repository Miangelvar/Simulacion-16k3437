{
 "cells": [
  {
   "cell_type": "markdown",
   "metadata": {},
   "source": [
    "# Taller 1"
   ]
  },
  {
   "cell_type": "markdown",
   "metadata": {},
   "source": [
    "## 1. Método de Cuadrados Medios para generación de números aleatorios           "
   ]
  },
  {
   "cell_type": "code",
   "execution_count": 1,
   "metadata": {
    "scrolled": true
   },
   "outputs": [
    {
     "name": "stdout",
     "output_type": "stream",
     "text": [
      "Semilla x0 (2N dígitos): 5645\n",
      "Cantidad de números aleatorios a generar: 5\n",
      "x1: 8660\n",
      "u1: 0.866\n",
      "x2: 9956\n",
      "u2: 0.9956\n",
      "x3: 1219\n",
      "u3: 0.1219\n",
      "x4: 4859\n",
      "u4: 0.4859\n",
      "x5: 6098\n",
      "u5: 0.6098\n"
     ]
    }
   ],
   "source": [
    "from math import log10\n",
    "from math import floor\n",
    "\n",
    "\n",
    "def midsquare(x, n):\n",
    "    x = x * x\n",
    "    x = floor(x / (10 ** n))\n",
    "    x = x % (10 ** (2 * n))\n",
    "    return x\n",
    "\n",
    "\n",
    "seed = int(input(\"Semilla x0 (2N dígitos): \"))\n",
    "amount = int(input(\"Cantidad de números aleatorios a generar: \"))\n",
    "n = floor((log10(seed) + 1) / 2)\n",
    "for i in range(amount):\n",
    "    print(\"x\" + str(i+1) + \": \" + str(midsquare(seed, n)))\n",
    "    print(\"u\" + str(i+1) + \": \" + str(midsquare(seed, n) / (10 ** (2 * n))))\n",
    "    seed = midsquare(seed, n)"
   ]
  },
  {
   "cell_type": "markdown",
   "metadata": {},
   "source": [
    "## 2. Generador Congruencial Mixto para generación de números aleatorios"
   ]
  },
  {
   "cell_type": "code",
   "execution_count": null,
   "metadata": {},
   "outputs": [],
   "source": [
    "def lcg(x0, a, c, modulo):\n",
    "    x = (a * x + c) % modulo\n",
    "    return x\n",
    "\n",
    "\n",
    "x = int(input(\"Semilla: \"))\n",
    "n = int(input(\"Número de variables a generar: \"))\n",
    "a = int(input(\"Factor multiplicador: \"))\n",
    "c = int(input(\"Factor \"))\n",
    "for i in range(k):\n",
    "    print(\"Número aleatorio: \" + str(x))\n",
    "    print(\"Variable aleatoria: \" + str(x / modulo))"
   ]
  },
  {
   "cell_type": "markdown",
   "metadata": {},
   "source": [
    "## 3. Implementar una función para calcular el ciclo de cualquier generador de números pseudoaleatorios."
   ]
  },
  {
   "cell_type": "code",
   "execution_count": null,
   "metadata": {},
   "outputs": [],
   "source": []
  }
 ],
 "metadata": {
  "kernelspec": {
   "display_name": "Python 3",
   "language": "python",
   "name": "python3"
  },
  "language_info": {
   "codemirror_mode": {
    "name": "ipython",
    "version": 3
   },
   "file_extension": ".py",
   "mimetype": "text/x-python",
   "name": "python",
   "nbconvert_exporter": "python",
   "pygments_lexer": "ipython3",
   "version": "3.7.3"
  }
 },
 "nbformat": 4,
 "nbformat_minor": 2
}
