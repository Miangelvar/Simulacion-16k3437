{
 "cells": [
  {
   "cell_type": "markdown",
   "metadata": {},
   "source": [
    "# Taller 2"
   ]
  },
  {
   "cell_type": "markdown",
   "metadata": {},
   "source": [
    "## 1. Implementar el método de la transformada inversa."
   ]
  },
  {
   "cell_type": "code",
   "execution_count": 2,
   "metadata": {},
   "outputs": [
    {
     "name": "stdout",
     "output_type": "stream",
     "text": [
      "lista de probabilidades: [0.2, 0.2, 0.3, 0.15, 0.15]\n",
      "Conteo de variables aleatorias de una muestra de 100.000: [20061, 20183, 29885, 15020, 14851]\n"
     ]
    }
   ],
   "source": [
    "from random import random\n",
    "\n",
    "#Recibe como parámetro la lista asociada a las probabilidades de cada uno de los eventos.\n",
    "def inverse_transform(lista):\n",
    "    aux = 0\n",
    "    i = 0\n",
    "    u = random()\n",
    "    while True:\n",
    "        if u < lista[i] + aux:\n",
    "            break\n",
    "        else:\n",
    "            aux = aux + lista[i]\n",
    "            i = i + 1\n",
    "    return i + 1\n",
    "\n",
    "listaprob = [.2, .2, .3, .15, .15]\n",
    "listacont = [0, 0, 0, 0, 0]\n",
    "\n",
    "for i in range(100000):\n",
    "    for i in range(len(listacont)):\n",
    "        if inverse_transform(listaprob) == i + 1:\n",
    "            listacont[i] = listacont[i] + 1\n",
    "print(\"lista de probabilidades: {}\".format(listaprob))\n",
    "print(\"Conteo de variables aleatorias de una muestra de 100.000: {}\".format(listacont))"
   ]
  },
  {
   "cell_type": "markdown",
   "metadata": {},
   "source": [
    "## 2. Implementar el método para la generación de v.a. Poisson (Sec. 4.2, Ross99)\n"
   ]
  },
  {
   "cell_type": "code",
   "execution_count": 21,
   "metadata": {},
   "outputs": [
    {
     "name": "stdout",
     "output_type": "stream",
     "text": [
      "Lista de variables aleatorias con distribución poisson con media 10: [7, 8, 11, 15, 8, 9, 13, 9, 8, 14, 12, 13, 12, 10, 6, 9, 11, 9, 9, 11, 6, 11, 11, 15, 14, 7, 10, 9, 12, 11, 10, 10, 16, 11, 8, 6, 7, 9, 8, 10, 16, 10, 11, 7, 7, 12, 9, 10, 10, 15]\n"
     ]
    }
   ],
   "source": [
    "from math import exp\n",
    "\n",
    "#Recibe como parámetro el valor esperado\n",
    "def poisson(lambda_media):\n",
    "    i = 0\n",
    "    u = random()\n",
    "    p = exp(-lambda_media)\n",
    "    F = p\n",
    "    while True:\n",
    "        if u < F:\n",
    "            break\n",
    "        else:\n",
    "            p = (lambda_media * p) / (i + 1)\n",
    "            F = F + p\n",
    "            i = i + 1\n",
    "    return i\n",
    "\n",
    "media = 10\n",
    "lista_poisson = []\n",
    "for k in range(50):\n",
    "    lista_poisson.append(poisson(10))\n",
    "\n",
    "print(\"Lista de variables aleatorias con distribución poisson con media {}: {}\".format(media, lista_poisson))"
   ]
  },
  {
   "cell_type": "markdown",
   "metadata": {},
   "source": [
    "## 3. Implementar el método para la generación de v.a. Binomiales (Sec. 4.3, Ross99)"
   ]
  },
  {
   "cell_type": "code",
   "execution_count": 22,
   "metadata": {},
   "outputs": [
    {
     "name": "stdout",
     "output_type": "stream",
     "text": [
      "Lista de variables aleatorias con distribución binomial (40,0.5) : [16, 19, 22, 23, 26, 23, 26, 22, 18, 16, 22, 20, 21, 18, 15, 17, 21, 20, 20, 21, 18, 25, 15, 20, 22, 17, 23, 22, 21, 21, 24, 19, 23, 23, 18, 21, 21, 22, 17, 20, 13, 23, 20, 23, 21, 17, 22, 21, 15, 24]\n"
     ]
    }
   ],
   "source": [
    "#Recibe como parámetro el número de intentos y la probabilidad de éxito asociada al evento\n",
    "def binomial(n, p):\n",
    "    u = random()\n",
    "    c = p / (1 - p)\n",
    "    i = 0\n",
    "    pr = (1 - p) ** n\n",
    "    F = pr\n",
    "    while True:\n",
    "        if u < F:\n",
    "            break\n",
    "        else:\n",
    "            pr = (c * (n - i) / (i + 1)) * pr\n",
    "            F = F + pr\n",
    "            i = i + 1\n",
    "    return i\n",
    "\n",
    "n = 40\n",
    "p = 0.5\n",
    "lista_binomial = []\n",
    "for i in range(50):\n",
    "    lista_binomial.append(binomial(n, p))\n",
    "print(\"Lista de variables aleatorias con distribución binomial ({},{}) : {}\".format(n, p, lista_binomial))"
   ]
  },
  {
   "cell_type": "markdown",
   "metadata": {},
   "source": [
    "## 4. Implementar la técnica de aceptación y rechazo para la generación de v.a. Discretas (Sec. 4.4, Ross99)"
   ]
  },
  {
   "cell_type": "code",
   "execution_count": 26,
   "metadata": {},
   "outputs": [
    {
     "name": "stdout",
     "output_type": "stream",
     "text": [
      "('X1', 1)\n",
      "('X2', 1)\n",
      "('X3', 1)\n"
     ]
    }
   ],
   "source": [
    "def calcular_c(listap, listaq):\n",
    "    c = 0\n",
    "    for i in range(len(listaq)):\n",
    "        if c < listap[i] / listaq[i]:\n",
    "            c = listap[i] / listaq[i]\n",
    "    return c\n",
    "\n",
    "\n",
    "def operate_value(value, multiplier):\n",
    "    return int(multiplier * value)\n",
    "    \n",
    "\n",
    "def aceptacion_y_rechazo(listap, listaq):\n",
    "    resultado = []\n",
    "    for i in range(len(listap)):\n",
    "        y_simu = 1\n",
    "        u = 0\n",
    "        py = 0\n",
    "        qy = 1\n",
    "        c = 1\n",
    "        while(u > py / (c * qy)):\n",
    "            y_simu = operate_value(listaq[i], len(listap))\n",
    "            U1 = random()\n",
    "            py = list_p[y_simu]\n",
    "            qy = list_q[y_simu]\n",
    "            c = calcular_c(listap, listaq)\n",
    "        \n",
    "        key = \"X{}\".format(i + 1)\n",
    "        resultado.append((key, y_simu))\n",
    "    return resultado\n",
    "\n",
    "listap = [.333, .333, .333]\n",
    "listaq = [.2, .5, .3]\n",
    "for i in aceptacion_y_rechazo(listap, listaq):\n",
    "    print(i)\n",
    "\n",
    "#('X_1', 1)\n",
    "    \n",
    "    "
   ]
  },
  {
   "cell_type": "markdown",
   "metadata": {},
   "source": [
    "## 5. Implementar el método de composición para la generación de v.a. Discretas (Sec. 4.4, Ross99)"
   ]
  },
  {
   "cell_type": "code",
   "execution_count": null,
   "metadata": {},
   "outputs": [],
   "source": []
  },
  {
   "cell_type": "markdown",
   "metadata": {},
   "source": [
    "## 6. Ejercicios 1, 3, 4, 7 (Cap. 4, Ross99)"
   ]
  },
  {
   "cell_type": "markdown",
   "metadata": {},
   "source": [
    "### Ejercicio 1\n",
    "\n",
    "Escriba un programa para generar n valores a partir de la funcion de masa de probabilidad p1 = 1/3, p2 = 2/3\n",
    "<br>(a) Sea n = 100 ejecute el programa y determine la proporcion de valores que sean iguales a 1.\n",
    "<br>(b) Repita (a) con n = 1000\n",
    "<br>(c) Repita (a) con n = 10000"
   ]
  },
  {
   "cell_type": "code",
   "execution_count": 28,
   "metadata": {},
   "outputs": [
    {
     "name": "stdout",
     "output_type": "stream",
     "text": [
      "Proporcion de veces que se genera 1 con n = 100: 0.36\n",
      "Proporcion de veces que se genera 1 con n = 1000: 0.36\n",
      "Proporcion de veces que se genera 1 con n = 10000: 0.3329\n"
     ]
    }
   ],
   "source": [
    "def ejercicio_1():\n",
    "  dist = [1 / 3, 2 / 3]\n",
    "  cont = [0, 0, 0]\n",
    "  for i in range(3):\n",
    "    for j in range(10**(i + 2)):\n",
    "      if inverse_transform(dist) == 1:\n",
    "        cont[i] = cont[i] + 1\n",
    "    print(\"Proporcion de veces que se genera 1 con n = {}: {}\".format(10**(i + 2), cont[i] / 10**(i + 2)))\n",
    "\n",
    "\n",
    "ejercicio_1()"
   ]
  },
  {
   "cell_type": "markdown",
   "metadata": {},
   "source": [
    "### Ejercicio 3\n",
    "Dé un algoritmo eficiente para simular el valor de una variable aleatoria X tal que:\n",
    "<br>\n",
    "P{X = 1} = 0.3 , P{X = 2} = 0.2, P{X = 3} = 0.35, P{X = 4} = 0.15"
   ]
  },
  {
   "cell_type": "code",
   "execution_count": null,
   "metadata": {},
   "outputs": [],
   "source": [
    "def  ejercicio_3():\n",
    "    dist = [.3, .2, .35, .15]\n",
    "    cont = [0, 0, 0, 0]\n",
    "    \n",
    "    for i in range(10000):\n",
    "        for j in range(len(dist)):\n",
    "            if (dist[j] == j):\n",
    "                cont[j] = cont[j] + 1\n",
    "    return cont\n",
    "\n",
    "\n",
    "print(ejercicio_3())"
   ]
  },
  {
   "cell_type": "markdown",
   "metadata": {},
   "source": [
    "### Ejercicio 7\n",
    "Se lanza de manera continua un par de dados legales, hasta que todos los posibles resultados 2, 3, ..., 12 hayan aparecido al menos una vez. Desarrolle un estudio de simulación para estimar el número esperado de lanzamientos."
   ]
  },
  {
   "cell_type": "code",
   "execution_count": 32,
   "metadata": {},
   "outputs": [
    {
     "name": "stdout",
     "output_type": "stream",
     "text": [
      "Estimado de ensayos necesarios de una muestra de 1000: 59.045\n"
     ]
    }
   ],
   "source": [
    "def ejercicio_7():\n",
    "    dist = [1 / 36, 2 / 36, 3 / 36, 4 / 36, 5 / 36, 6 / 36, 5 / 36, 4 / 36, 3 / 36, 2 / 36, 1 / 36]\n",
    "    lista = []\n",
    "    cont = 0\n",
    "    aux = 0\n",
    "    while True:\n",
    "        aux = inverse_transform(dist) + 1\n",
    "        if aux not in lista:\n",
    "            lista.append(aux)\n",
    "        if len(lista) == len(dist):\n",
    "            break\n",
    "        cont += 1\n",
    "    return cont\n",
    "\n",
    "\n",
    "avg = 0\n",
    "for i in range(1000):\n",
    "    avg = avg + ejercicio_7()\n",
    "print(\"Estimado de ensayos necesarios de una muestra de 1000: {}\".format(avg / 1000))"
   ]
  },
  {
   "cell_type": "code",
   "execution_count": null,
   "metadata": {},
   "outputs": [],
   "source": []
  }
 ],
 "metadata": {
  "kernelspec": {
   "display_name": "Python 3",
   "language": "python",
   "name": "python3"
  },
  "language_info": {
   "codemirror_mode": {
    "name": "ipython",
    "version": 3
   },
   "file_extension": ".py",
   "mimetype": "text/x-python",
   "name": "python",
   "nbconvert_exporter": "python",
   "pygments_lexer": "ipython3",
   "version": "3.7.3"
  }
 },
 "nbformat": 4,
 "nbformat_minor": 2
}
