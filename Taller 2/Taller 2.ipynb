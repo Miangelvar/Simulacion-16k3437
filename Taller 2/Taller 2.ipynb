{
 "cells": [
  {
   "cell_type": "markdown",
   "metadata": {},
   "source": [
    "# Taller 2"
   ]
  },
  {
   "cell_type": "markdown",
   "metadata": {},
   "source": [
    "## Definición de funciones"
   ]
  },
  {
   "cell_type": "code",
   "execution_count": null,
   "metadata": {},
   "outputs": [],
   "source": [
    "from random import random\n",
    "\n",
    "#Recibe como parámetro la lista asociada a las probabilidades de cada uno de los eventos.\n",
    "def inverse_transform(lista):\n",
    "    aux = 0\n",
    "    i = 0\n",
    "    u = random()\n",
    "    while True:\n",
    "        if u < lista[i] + aux:\n",
    "            break\n",
    "        else:\n",
    "            aux = aux + lista[i]\n",
    "            i = i + 1\n",
    "    return i + 1\n",
    "\n",
    "\n",
    "#Recibe como parámetro el valor esperado\n",
    "def poisson(lambda_media):\n",
    "    i = 0\n",
    "    u = random()\n",
    "    p = exp(-lambda_media)\n",
    "    F = p\n",
    "    while True:\n",
    "        if u < F:\n",
    "            break\n",
    "        else:\n",
    "            p = (lambda_media * p) / (i + 1)\n",
    "            F = F + p\n",
    "            i = i + 1\n",
    "    return i\n",
    "\n",
    "#Recibe como parámetro el número de intentos y la probabilidad de éxito asociada al evento\n",
    "def binomial(n, p):\n",
    "    u = random()\n",
    "    c = p / (1 - p)\n",
    "    i = 0\n",
    "    pr = (1 - p) ** n\n",
    "    F = pr\n",
    "    while True:\n",
    "        if u < F:\n",
    "            break\n",
    "        else:\n",
    "            pr = (c * (n - i) / (i + 1)) * pr\n",
    "            F = F + pr\n",
    "            i = i + 1\n",
    "    return i"
   ]
  },
  {
   "cell_type": "markdown",
   "metadata": {},
   "source": [
    "## 1. Implementar el método de la transformada inversa."
   ]
  },
  {
   "cell_type": "code",
   "execution_count": null,
   "metadata": {},
   "outputs": [],
   "source": []
  },
  {
   "cell_type": "markdown",
   "metadata": {},
   "source": [
    "## 2. Implementar el método para la generación de v.a. Poisson (Sec. 4.2, Ross99)\n"
   ]
  },
  {
   "cell_type": "markdown",
   "metadata": {},
   "source": [
    "## 3. Implementar el método para la generación de v.a. Binomiales (Sec. 4.3, Ross99)"
   ]
  },
  {
   "cell_type": "markdown",
   "metadata": {},
   "source": [
    "## 4. Implementar la técnica de aceptación y rechazo para la generación de v.a. Discretas (Sec. 4.4, Ross99)"
   ]
  },
  {
   "cell_type": "markdown",
   "metadata": {},
   "source": [
    "## 5. Implementar el método de composición para la generación de v.a. Discretas (Sec. 4.4, Ross99)"
   ]
  },
  {
   "cell_type": "markdown",
   "metadata": {},
   "source": [
    "## 6. Ejercicios 1, 3, 4, 7 (Cap. 4, Ross99)"
   ]
  },
  {
   "cell_type": "code",
   "execution_count": null,
   "metadata": {},
   "outputs": [],
   "source": []
  }
 ],
 "metadata": {
  "kernelspec": {
   "display_name": "Python 3",
   "language": "python",
   "name": "python3"
  },
  "language_info": {
   "codemirror_mode": {
    "name": "ipython",
    "version": 3
   },
   "file_extension": ".py",
   "mimetype": "text/x-python",
   "name": "python",
   "nbconvert_exporter": "python",
   "pygments_lexer": "ipython3",
   "version": "3.7.3"
  }
 },
 "nbformat": 4,
 "nbformat_minor": 2
}
