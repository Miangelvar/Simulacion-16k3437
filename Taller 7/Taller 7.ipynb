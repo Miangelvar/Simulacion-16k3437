{
 "cells": [
  {
   "cell_type": "markdown",
   "metadata": {
    "collapsed": true,
    "pycharm": {
     "name": "#%% md\n"
    }
   },
   "source": [
    "# Implementación de los ejemplos de Simpy\n"
   ]
  },
  {
   "cell_type": "markdown",
   "source": [
    "### Bank Renege"
   ],
   "metadata": {
    "collapsed": false,
    "pycharm": {
     "name": "#%% md\n"
    }
   }
  },
  {
   "cell_type": "code",
   "execution_count": 1,
   "outputs": [
    {
     "name": "stdout",
     "text": [
      "Bank renege\n 0.0000 Customer00: Aquí estoy\n 0.0000 Customer00: Esperó  0.000\n 3.8595 Customer00: Finalizó\n10.2006 Customer01: Aquí estoy\n10.2006 Customer01: Esperó  0.000\n12.7265 Customer02: Aquí estoy\n13.9003 Customer02: Abandonó después de  1.174\n23.7507 Customer01: Finalizó\n34.9993 Customer03: Aquí estoy\n34.9993 Customer03: Esperó  0.000\n37.9599 Customer03: Finalizó\n40.4798 Customer04: Aquí estoy\n40.4798 Customer04: Esperó  0.000\n43.1401 Customer04: Finalizó\n"
     ],
     "output_type": "stream"
    }
   ],
   "source": [
    "import random\n",
    "\n",
    "import simpy\n",
    "\n",
    "\n",
    "RANDOM_SEED = 42\n",
    "NEW_CUSTOMERS = 5  # Total number of customers\n",
    "INTERVAL_CUSTOMERS = 10.0  # Generate new customers roughly every x seconds\n",
    "MIN_PATIENCE = 1  # Min. customer patience\n",
    "MAX_PATIENCE = 3  # Max. customer patience\n",
    "\n",
    "\n",
    "def source(env, number, interval, counter):\n",
    "    \"\"\"Source generates customers randomly\"\"\"\n",
    "    for i in range(number):\n",
    "        c = customer(env, 'Customer%02d' % i, counter, time_in_bank=12.0)\n",
    "        env.process(c)\n",
    "        t = random.expovariate(1.0 / interval)\n",
    "        yield env.timeout(t)\n",
    "\n",
    "\n",
    "def customer(env, name, counter, time_in_bank):\n",
    "    \"\"\"Customer arrives, is served and leaves.\"\"\"\n",
    "    arrive = env.now\n",
    "    print('%7.4f %s: Aquí estoy' % (arrive, name))\n",
    "\n",
    "    with counter.request() as req:\n",
    "        patience = random.uniform(MIN_PATIENCE, MAX_PATIENCE)\n",
    "        # Wait for the counter or abort at the end of our tether\n",
    "        results = yield req | env.timeout(patience)\n",
    "\n",
    "        wait = env.now - arrive\n",
    "\n",
    "        if req in results:\n",
    "            # We got to the counter\n",
    "            print('%7.4f %s: Esperó %6.3f' % (env.now, name, wait))\n",
    "\n",
    "            tib = random.expovariate(1.0 / time_in_bank)\n",
    "            yield env.timeout(tib)\n",
    "            print('%7.4f %s: Finalizó' % (env.now, name))\n",
    "\n",
    "        else:\n",
    "            # We reneged\n",
    "            print('%7.4f %s: Abandonó después de %6.3f' % (env.now, name, wait))\n",
    "\n",
    "\n",
    "# Setup and start the simulation\n",
    "print('Bank renege')\n",
    "random.seed(RANDOM_SEED)\n",
    "env = simpy.Environment()\n",
    "\n",
    "# Start processes and run\n",
    "counter = simpy.Resource(env, capacity=1)\n",
    "env.process(source(env, NEW_CUSTOMERS, INTERVAL_CUSTOMERS, counter))\n",
    "env.run()\n"
   ],
   "metadata": {
    "collapsed": false,
    "pycharm": {
     "name": "#%%\n",
     "is_executing": false
    }
   }
  },
  {
   "cell_type": "markdown",
   "source": [
    "### Carwash\n"
   ],
   "metadata": {
    "collapsed": false,
    "pycharm": {
     "name": "#%% md\n"
    }
   }
  },
  {
   "cell_type": "code",
   "execution_count": 2,
   "outputs": [
    {
     "name": "stdout",
     "text": [
      "Carwash\nCar 0 llegó al carwash a las 0.00.\nCar 1 llegó al carwash a las 0.00.\nCar 2 llegó al carwash a las 0.00.\nCar 3 llegó al carwash a las 0.00.\nCar 0 entró al carwash a las 0.00.\nCar 1 entró al carwash a las 0.00.\nCar 4 llegó al carwash a las 5.00.\nCarwash removió 97% de la mugre de Car 0\nCarwash removió 67% de la mugre de Car 1\nCar 0 abandona el carwash a las 5.00.\nCar 1 abandona el carwash a las 5.00.\nCar 2 entró al carwash a las 5.00.\nCar 3 entró al carwash a las 5.00.\nCar 5 llegó al carwash a las 10.00.\nCarwash removió 64% de la mugre de Car 2\nCarwash removió 58% de la mugre de Car 3\nCar 2 abandona el carwash a las 10.00.\nCar 3 abandona el carwash a las 10.00.\nCar 4 entró al carwash a las 10.00.\nCar 5 entró al carwash a las 10.00.\nCarwash removió 97% de la mugre de Car 4\nCarwash removió 56% de la mugre de Car 5\nCar 4 abandona el carwash a las 15.00.\nCar 5 abandona el carwash a las 15.00.\nCar 6 llegó al carwash a las 16.00.\nCar 6 entró al carwash a las 16.00.\n"
     ],
     "output_type": "stream"
    }
   ],
   "source": [
    "import random\n",
    "\n",
    "import simpy\n",
    "\n",
    "\n",
    "RANDOM_SEED = 42\n",
    "NUM_MACHINES = 2  # Number of machines in the carwash\n",
    "WASHTIME = 5      # Minutes it takes to clean a car\n",
    "T_INTER = 7       # Create a car every ~7 minutes\n",
    "SIM_TIME = 20     # Simulation time in minutes\n",
    "\n",
    "\n",
    "class Carwash(object):\n",
    "    \"\"\"A carwash has a limited number of machines (``NUM_MACHINES``) to\n",
    "    clean cars in parallel.\n",
    "\n",
    "    Cars have to request one of the machines. When they got one, they\n",
    "    can start the washing processes and wait for it to finish (which\n",
    "    takes ``washtime`` minutes).\n",
    "\n",
    "    \"\"\"\n",
    "    def __init__(self, env, num_machines, washtime):\n",
    "        self.env = env\n",
    "        self.machine = simpy.Resource(env, num_machines)\n",
    "        self.washtime = washtime\n",
    "\n",
    "    def wash(self, car):\n",
    "        \"\"\"The washing processes. It takes a ``car`` processes and tries\n",
    "        to clean it.\"\"\"\n",
    "        yield self.env.timeout(WASHTIME)\n",
    "        print(\"Carwash removió %d%% de la mugre de %s\" %\n",
    "              (random.randint(50, 99), car))\n",
    "\n",
    "\n",
    "def car(env, name, cw):\n",
    "    \"\"\"The car process (each car has a ``name``) arrives at the carwash\n",
    "    (``cw``) and requests a cleaning machine.\n",
    "\n",
    "    It then starts the washing process, waits for it to finish and\n",
    "    leaves to never come back ...\n",
    "\n",
    "    \"\"\"\n",
    "    print('%s llegó al carwash a las %.2f.' % (name, env.now))\n",
    "    with cw.machine.request() as request:\n",
    "        yield request\n",
    "\n",
    "        print('%s entró al carwash a las %.2f.' % (name, env.now))\n",
    "        yield env.process(cw.wash(name))\n",
    "\n",
    "        print('%s abandona el carwash a las %.2f.' % (name, env.now))\n",
    "\n",
    "\n",
    "def setup(env, num_machines, washtime, t_inter):\n",
    "    \"\"\"Create a carwash, a number of initial cars and keep creating cars\n",
    "    approx. every ``t_inter`` minutes.\"\"\"\n",
    "    # Create the carwash\n",
    "    carwash = Carwash(env, num_machines, washtime)\n",
    "\n",
    "    # Create 4 initial cars\n",
    "    for i in range(4):\n",
    "        env.process(car(env, 'Car %d' % i, carwash))\n",
    "\n",
    "    # Create more cars while the simulation is running\n",
    "    while True:\n",
    "        yield env.timeout(random.randint(t_inter - 2, t_inter + 2))\n",
    "        i += 1\n",
    "        env.process(car(env, 'Car %d' % i, carwash))\n",
    "\n",
    "\n",
    "# Setup and start the simulation\n",
    "print('Carwash')\n",
    "#print('Check out http://youtu.be/fXXmeP9TvBg while simulating ... ;-)')\n",
    "random.seed(RANDOM_SEED)  # This helps reproducing the results\n",
    "\n",
    "# Create an environment and start the setup process\n",
    "env = simpy.Environment()\n",
    "env.process(setup(env, NUM_MACHINES, WASHTIME, T_INTER))\n",
    "\n",
    "# Execute!\n",
    "env.run(until=SIM_TIME)\n"
   ],
   "metadata": {
    "collapsed": false,
    "pycharm": {
     "name": "#%%\n",
     "is_executing": false
    }
   }
  },
  {
   "cell_type": "markdown",
   "source": [
    "### Machine shop\n"
   ],
   "metadata": {
    "collapsed": false,
    "pycharm": {
     "name": "#%% md\n"
    }
   }
  },
  {
   "cell_type": "code",
   "execution_count": 3,
   "outputs": [
    {
     "name": "stdout",
     "text": [
      "Machine shop\n",
      "Resultados de la machine shop después de 4 semanas\nMachine 0 elaboró 3251 partes.\nMachine 1 elaboró 3273 partes.\nMachine 2 elaboró 3242 partes.\nMachine 3 elaboró 3343 partes.\nMachine 4 elaboró 3387 partes.\nMachine 5 elaboró 3244 partes.\nMachine 6 elaboró 3269 partes.\nMachine 7 elaboró 3185 partes.\nMachine 8 elaboró 3302 partes.\nMachine 9 elaboró 3279 partes.\n"
     ],
     "output_type": "stream"
    }
   ],
   "source": [
    "import random\n",
    "\n",
    "import simpy\n",
    "\n",
    "\n",
    "RANDOM_SEED = 42\n",
    "PT_MEAN = 10.0         # Avg. processing time in minutes\n",
    "PT_SIGMA = 2.0         # Sigma of processing time\n",
    "MTTF = 300.0           # Mean time to failure in minutes\n",
    "BREAK_MEAN = 1 / MTTF  # Param. for expovariate distribution\n",
    "REPAIR_TIME = 30.0     # Time it takes to repair a machine in minutes\n",
    "JOB_DURATION = 30.0    # Duration of other jobs in minutes\n",
    "NUM_MACHINES = 10      # Number of machines in the machine shop\n",
    "WEEKS = 4              # Simulation time in weeks\n",
    "SIM_TIME = WEEKS * 7 * 24 * 60  # Simulation time in minutes\n",
    "\n",
    "\n",
    "def time_per_part():\n",
    "    \"\"\"Return actual processing time for a concrete part.\"\"\"\n",
    "    return random.normalvariate(PT_MEAN, PT_SIGMA)\n",
    "\n",
    "\n",
    "def time_to_failure():\n",
    "    \"\"\"Return time until next failure for a machine.\"\"\"\n",
    "    return random.expovariate(BREAK_MEAN)\n",
    "\n",
    "\n",
    "class Machine(object):\n",
    "    \"\"\"A machine produces parts and my get broken every now and then.\n",
    "\n",
    "    If it breaks, it requests a *repairman* and continues the production\n",
    "    after the it is repaired.\n",
    "\n",
    "    A machine has a *name* and a numberof *parts_made* thus far.\n",
    "\n",
    "    \"\"\"\n",
    "    def __init__(self, env, name, repairman):\n",
    "        self.env = env\n",
    "        self.name = name\n",
    "        self.parts_made = 0\n",
    "        self.broken = False\n",
    "\n",
    "        # Start \"working\" and \"break_machine\" processes for this machine.\n",
    "        self.process = env.process(self.working(repairman))\n",
    "        env.process(self.break_machine())\n",
    "\n",
    "    def working(self, repairman):\n",
    "        \"\"\"Produce parts as long as the simulation runs.\n",
    "\n",
    "        While making a part, the machine may break multiple times.\n",
    "        Request a repairman when this happens.\n",
    "\n",
    "        \"\"\"\n",
    "        while True:\n",
    "            # Start making a new part\n",
    "            done_in = time_per_part()\n",
    "            while done_in:\n",
    "                try:\n",
    "                    # Working on the part\n",
    "                    start = self.env.now\n",
    "                    yield self.env.timeout(done_in)\n",
    "                    done_in = 0  # Set to 0 to exit while loop.\n",
    "\n",
    "                except simpy.Interrupt:\n",
    "                    self.broken = True\n",
    "                    done_in -= self.env.now - start  # How much time left?\n",
    "\n",
    "                    # Request a repairman. This will preempt its \"other_job\".\n",
    "                    with repairman.request(priority=1) as req:\n",
    "                        yield req\n",
    "                        yield self.env.timeout(REPAIR_TIME)\n",
    "\n",
    "                    self.broken = False\n",
    "\n",
    "            # Part is done.\n",
    "            self.parts_made += 1\n",
    "\n",
    "    def break_machine(self):\n",
    "        \"\"\"Break the machine every now and then.\"\"\"\n",
    "        while True:\n",
    "            yield self.env.timeout(time_to_failure())\n",
    "            if not self.broken:\n",
    "                # Only break the machine if it is currently working.\n",
    "                self.process.interrupt()\n",
    "\n",
    "\n",
    "def other_jobs(env, repairman):\n",
    "    \"\"\"The repairman's other (unimportant) job.\"\"\"\n",
    "    while True:\n",
    "        # Start a new job\n",
    "        done_in = JOB_DURATION\n",
    "        while done_in:\n",
    "            # Retry the job until it is done.\n",
    "            # It's priority is lower than that of machine repairs.\n",
    "            with repairman.request(priority=2) as req:\n",
    "                yield req\n",
    "                try:\n",
    "                    start = env.now\n",
    "                    yield env.timeout(done_in)\n",
    "                    done_in = 0\n",
    "                except simpy.Interrupt:\n",
    "                    done_in -= env.now - start\n",
    "\n",
    "\n",
    "# Setup and start the simulation\n",
    "print('Machine shop')\n",
    "random.seed(RANDOM_SEED)  # This helps reproducing the results\n",
    "\n",
    "# Create an environment and start the setup process\n",
    "env = simpy.Environment()\n",
    "repairman = simpy.PreemptiveResource(env, capacity=1)\n",
    "machines = [Machine(env, 'Machine %d' % i, repairman)\n",
    "            for i in range(NUM_MACHINES)]\n",
    "env.process(other_jobs(env, repairman))\n",
    "\n",
    "# Execute!\n",
    "env.run(until=SIM_TIME)\n",
    "\n",
    "# Analyis/results\n",
    "print('Resultados de la machine shop después de %s semanas' % WEEKS)\n",
    "for machine in machines:\n",
    "    print('%s elaboró %d partes.' % (machine.name, machine.parts_made))\n"
   ],
   "metadata": {
    "collapsed": false,
    "pycharm": {
     "name": "#%%\n",
     "is_executing": false
    }
   }
  },
  {
   "cell_type": "markdown",
   "source": [
    "### Movie Renege\n"
   ],
   "metadata": {
    "collapsed": false,
    "pycharm": {
     "name": "#%% md\n"
    }
   }
  },
  {
   "cell_type": "code",
   "execution_count": 4,
   "outputs": [
    {
     "name": "stdout",
     "text": [
      "Movie renege\nLa película \"Python Unchained\" agotó 38.0 minutos después de abrir ventas.\n  Cantidad de personas que abandonaron la fila antes del abrir ventas: 16\nLa película \"Kill Process\" agotó 43.0 minutos después de abrir ventas.\n  Cantidad de personas que abandonaron la fila antes del abrir ventas: 5\nLa película \"Pulp Implementation\" agotó 28.0 minutos después de abrir ventas.\n  Cantidad de personas que abandonaron la fila antes del abrir ventas: 5\n"
     ],
     "output_type": "stream"
    }
   ],
   "source": [
    "import collections\n",
    "import random\n",
    "\n",
    "import simpy\n",
    "\n",
    "\n",
    "RANDOM_SEED = 42\n",
    "TICKETS = 50  # Number of tickets per movie\n",
    "SIM_TIME = 120  # Simulate until\n",
    "\n",
    "\n",
    "def moviegoer(env, movie, num_tickets, theater):\n",
    "    \"\"\"A moviegoer tries to by a number of tickets (*num_tickets*) for\n",
    "    a certain *movie* in a *theater*.\n",
    "\n",
    "    If the movie becomes sold out, she leaves the theater. If she gets\n",
    "    to the counter, she tries to buy a number of tickets. If not enough\n",
    "    tickets are left, she argues with the teller and leaves.\n",
    "\n",
    "    If at most one ticket is left after the moviegoer bought her\n",
    "    tickets, the *sold out* event for this movie is triggered causing\n",
    "    all remaining moviegoers to leave.\n",
    "\n",
    "    \"\"\"\n",
    "    with theater.counter.request() as my_turn:\n",
    "        # Wait until its our turn or until the movie is sold out\n",
    "        result = yield my_turn | theater.sold_out[movie]\n",
    "\n",
    "        # Check if it's our turn of if movie is sold out\n",
    "        if my_turn not in result:\n",
    "            theater.num_renegers[movie] += 1\n",
    "            env.exit()\n",
    "\n",
    "        # Check if enough tickets left.\n",
    "        if theater.available[movie] < num_tickets:\n",
    "            # Moviegoer leaves after some discussion\n",
    "            yield env.timeout(0.5)\n",
    "            env.exit()\n",
    "\n",
    "        # Buy tickets\n",
    "        theater.available[movie] -= num_tickets\n",
    "        if theater.available[movie] < 2:\n",
    "            # Trigger the \"sold out\" event for the movie\n",
    "            theater.sold_out[movie].succeed()\n",
    "            theater.when_sold_out[movie] = env.now\n",
    "            theater.available[movie] = 0\n",
    "        yield env.timeout(1)\n",
    "\n",
    "\n",
    "def customer_arrivals(env, theater):\n",
    "    \"\"\"Create new *moviegoers* until the sim time reaches 120.\"\"\"\n",
    "    while True:\n",
    "        yield env.timeout(random.expovariate(1 / 0.5))\n",
    "\n",
    "        movie = random.choice(theater.movies)\n",
    "        num_tickets = random.randint(1, 6)\n",
    "        if theater.available[movie]:\n",
    "            env.process(moviegoer(env, movie, num_tickets, theater))\n",
    "\n",
    "\n",
    "Theater = collections.namedtuple('Theater', 'counter, movies, available, '\n",
    "                                            'sold_out, when_sold_out, '\n",
    "                                            'num_renegers')\n",
    "\n",
    "\n",
    "# Setup and start the simulation\n",
    "print('Movie renege')\n",
    "random.seed(RANDOM_SEED)\n",
    "env = simpy.Environment()\n",
    "\n",
    "# Create movie theater\n",
    "counter = simpy.Resource(env, capacity=1)\n",
    "movies = ['Python Unchained', 'Kill Process', 'Pulp Implementation']\n",
    "available = {movie: TICKETS for movie in movies}\n",
    "sold_out = {movie: env.event() for movie in movies}\n",
    "when_sold_out = {movie: None for movie in movies}\n",
    "num_renegers = {movie: 0 for movie in movies}\n",
    "theater = Theater(counter, movies, available, sold_out, when_sold_out,\n",
    "                  num_renegers)\n",
    "\n",
    "# Start process and run\n",
    "env.process(customer_arrivals(env, theater))\n",
    "env.run(until=SIM_TIME)\n",
    "\n",
    "# Analysis/results\n",
    "for movie in movies:\n",
    "    if theater.sold_out[movie]:\n",
    "        print('La película \"%s\" agotó %.1f minutos después de abrir '\n",
    "              'ventas.' % (movie, theater.when_sold_out[movie]))\n",
    "        print('  Cantidad de personas que abandonaron la fila antes del abrir ventas: %s' %\n",
    "              theater.num_renegers[movie])\n"
   ],
   "metadata": {
    "collapsed": false,
    "pycharm": {
     "name": "#%%\n",
     "is_executing": false
    }
   }
  },
  {
   "cell_type": "markdown",
   "source": [
    "### Gas Station Refueling\n"
   ],
   "metadata": {
    "collapsed": false,
    "pycharm": {
     "name": "#%% md\n"
    }
   }
  },
  {
   "cell_type": "code",
   "execution_count": 9,
   "outputs": [
    {
     "name": "stdout",
     "text": [
      "Gas Station refuelling\nCar 0 llegando a la gas station a las 87.0\nCar 0 terminó de tanquear a los 18.5 segundos.\nCar 1 llegando a la gas station a las 129.0\nCar 1 terminó de tanquear a los 19.0 segundos.\nCar 2 llegando a la gas station a las 284.0\nCar 2 terminó de tanquear a los 21.0 segundos.\nCar 3 llegando a la gas station a las 385.0\nCar 3 terminó de tanquear a los 13.5 segundos.\nCar 4 llegando a la gas station a las 459.0\nLlamando tractomula a las 460\nCar 4 terminó de tanquear a los 22.0 segundos.\nCar 5 llegando a la gas station a las 705.0\nCar 6 llegando a la gas station a las 750.0\nTractomula llegando a las 760\nTractomula tanqueando 188.0 litros.\nCar 6 terminó de tanquear a los 29.0 segundos.\nCar 5 terminó de tanquear a los 76.5 segundos.\nCar 7 llegando a la gas station a las 891.0\nCar 7 terminó de tanquear a los 13.0 segundos.\n"
     ],
     "output_type": "stream"
    }
   ],
   "source": [
    "import itertools\n",
    "import random\n",
    "\n",
    "import simpy\n",
    "\n",
    "\n",
    "RANDOM_SEED = 42\n",
    "GAS_STATION_SIZE = 200     # liters\n",
    "THRESHOLD = 10             # Threshold for calling the tank truck (in %)\n",
    "FUEL_TANK_SIZE = 50        # liters\n",
    "FUEL_TANK_LEVEL = [5, 25]  # Min/max levels of fuel tanks (in liters)\n",
    "REFUELING_SPEED = 2        # liters / second\n",
    "TANK_TRUCK_TIME = 300      # Seconds it takes the tank truck to arrive\n",
    "T_INTER = [30, 300]        # Create a car every [min, max] seconds\n",
    "SIM_TIME = 1000            # Simulation time in seconds\n",
    "\n",
    "\n",
    "def car(name, env, gas_station, fuel_pump):\n",
    "    \"\"\"A car arrives at the gas station for refueling.\n",
    "\n",
    "    It requests one of the gas station's fuel pumps and tries to get the\n",
    "    desired amount of gas from it. If the stations reservoir is\n",
    "    depleted, the car has to wait for the tank truck to arrive.\n",
    "\n",
    "    \"\"\"\n",
    "    fuel_tank_level = random.randint(*FUEL_TANK_LEVEL)\n",
    "    print('%s llegando a la gas station a las %.1f' % (name, env.now))\n",
    "    with gas_station.request() as req:\n",
    "        start = env.now\n",
    "        # Request one of the gas pumps\n",
    "        yield req\n",
    "\n",
    "        # Get the required amount of fuel\n",
    "        liters_required = FUEL_TANK_SIZE - fuel_tank_level\n",
    "        yield fuel_pump.get(liters_required)\n",
    "\n",
    "        # The \"actual\" refueling process takes some time\n",
    "        yield env.timeout(liters_required / REFUELING_SPEED)\n",
    "\n",
    "        print('%s terminó de tanquear a los %.1f segundos.' % (name,\n",
    "                                                          env.now - start))\n",
    "\n",
    "\n",
    "def gas_station_control(env, fuel_pump):\n",
    "    \"\"\"Periodically check the level of the *fuel_pump* and call the tank\n",
    "    truck if the level falls below a threshold.\"\"\"\n",
    "    while True:\n",
    "        if fuel_pump.level / fuel_pump.capacity * 100 < THRESHOLD:\n",
    "            # We need to call the tank truck now!\n",
    "            print('Llamando tractomula a las %d' % env.now)\n",
    "            # Wait for the tank truck to arrive and refuel the station\n",
    "            yield env.process(tank_truck(env, fuel_pump))\n",
    "\n",
    "        yield env.timeout(10)  # Check every 10 seconds\n",
    "\n",
    "\n",
    "def tank_truck(env, fuel_pump):\n",
    "    \"\"\"Arrives at the gas station after a certain delay and refuels it.\"\"\"\n",
    "    yield env.timeout(TANK_TRUCK_TIME)\n",
    "    print('Tractomula llegando a las %d' % env.now)\n",
    "    ammount = fuel_pump.capacity - fuel_pump.level\n",
    "    print('Tractomula tanqueando %.1f litros.' % ammount)\n",
    "    yield fuel_pump.put(ammount)\n",
    "\n",
    "\n",
    "def car_generator(env, gas_station, fuel_pump):\n",
    "    \"\"\"Generate new cars that arrive at the gas station.\"\"\"\n",
    "    for i in itertools.count():\n",
    "        yield env.timeout(random.randint(*T_INTER))\n",
    "        env.process(car('Car %d' % i, env, gas_station, fuel_pump))\n",
    "\n",
    "\n",
    "# Setup and start the simulation\n",
    "print('Gas Station refuelling')\n",
    "random.seed(RANDOM_SEED)\n",
    "\n",
    "# Create environment and start processes\n",
    "env = simpy.Environment()\n",
    "gas_station = simpy.Resource(env, 2)\n",
    "fuel_pump = simpy.Container(env, GAS_STATION_SIZE, init=GAS_STATION_SIZE)\n",
    "env.process(gas_station_control(env, fuel_pump))\n",
    "env.process(car_generator(env, gas_station, fuel_pump))\n",
    "\n",
    "# Execute!\n",
    "env.run(until=SIM_TIME)\n"
   ],
   "metadata": {
    "collapsed": false,
    "pycharm": {
     "name": "#%%\n",
     "is_executing": false
    }
   }
  },
  {
   "cell_type": "markdown",
   "source": [
    "### Process Comunication\n",
    "\n"
   ],
   "metadata": {
    "collapsed": false
   }
  },
  {
   "cell_type": "code",
   "execution_count": 7,
   "outputs": [
    {
     "name": "stdout",
     "text": [
      "Process communication\n\nOne-to-one pipe communication\n\nat time 6: Consumer A received message: Generator A says hello at 6.\nat time 12: Consumer A received message: Generator A says hello at 12.\nat time 19: Consumer A received message: Generator A says hello at 19.\nat time 26: Consumer A received message: Generator A says hello at 26.\nat time 36: Consumer A received message: Generator A says hello at 36.\nat time 46: Consumer A received message: Generator A says hello at 46.\nat time 52: Consumer A received message: Generator A says hello at 52.\nat time 58: Consumer A received message: Generator A says hello at 58.\nLATE Getting Message: at time 66: Consumer A received message: Generator A says hello at 65\nat time 75: Consumer A received message: Generator A says hello at 75.\nat time 85: Consumer A received message: Generator A says hello at 85.\nat time 95: Consumer A received message: Generator A says hello at 95.\n\nOne-to-many pipe communication\n\nat time 10: Consumer A received message: Generator A says hello at 10.\nat time 10: Consumer B received message: Generator A says hello at 10.\nat time 18: Consumer A received message: Generator A says hello at 18.\nat time 18: Consumer B received message: Generator A says hello at 18.\nat time 27: Consumer A received message: Generator A says hello at 27.\nat time 27: Consumer B received message: Generator A says hello at 27.\nat time 34: Consumer A received message: Generator A says hello at 34.\nat time 34: Consumer B received message: Generator A says hello at 34.\nat time 40: Consumer A received message: Generator A says hello at 40.\nLATE Getting Message: at time 41: Consumer B received message: Generator A says hello at 40\nat time 46: Consumer A received message: Generator A says hello at 46.\nLATE Getting Message: at time 47: Consumer B received message: Generator A says hello at 46\nat time 56: Consumer A received message: Generator A says hello at 56.\nat time 56: Consumer B received message: Generator A says hello at 56.\nat time 65: Consumer A received message: Generator A says hello at 65.\nat time 65: Consumer B received message: Generator A says hello at 65.\nat time 74: Consumer A received message: Generator A says hello at 74.\nat time 74: Consumer B received message: Generator A says hello at 74.\nat time 82: Consumer A received message: Generator A says hello at 82.\nat time 82: Consumer B received message: Generator A says hello at 82.\nat time 92: Consumer A received message: Generator A says hello at 92.\nat time 92: Consumer B received message: Generator A says hello at 92.\nat time 98: Consumer B received message: Generator A says hello at 98.\nat time 98: Consumer A received message: Generator A says hello at 98.\n"
     ],
     "output_type": "stream"
    }
   ],
   "source": [
    "import random\n",
    "\n",
    "import simpy\n",
    "\n",
    "\n",
    "RANDOM_SEED = 42\n",
    "SIM_TIME = 100\n",
    "\n",
    "\n",
    "class BroadcastPipe(object):\n",
    "    \"\"\"A Broadcast pipe that allows one process to send messages to many.\n",
    "\n",
    "    This construct is useful when message consumers are running at\n",
    "    different rates than message generators and provides an event\n",
    "    buffering to the consuming processes.\n",
    "\n",
    "    The parameters are used to create a new\n",
    "    :class:`~simpy.resources.store.Store` instance each time\n",
    "    :meth:`get_output_conn()` is called.\n",
    "\n",
    "    \"\"\"\n",
    "    def __init__(self, env, capacity=simpy.core.Infinity):\n",
    "        self.env = env\n",
    "        self.capacity = capacity\n",
    "        self.pipes = []\n",
    "\n",
    "    def put(self, value):\n",
    "        \"\"\"Broadcast a *value* to all receivers.\"\"\"\n",
    "        if not self.pipes:\n",
    "            raise RuntimeError('There are no output pipes.')\n",
    "        events = [store.put(value) for store in self.pipes]\n",
    "        return self.env.all_of(events)  # Condition event for all \"events\"\n",
    "\n",
    "    def get_output_conn(self):\n",
    "        \"\"\"Get a new output connection for this broadcast pipe.\n",
    "\n",
    "        The return value is a :class:`~simpy.resources.store.Store`.\n",
    "\n",
    "        \"\"\"\n",
    "        pipe = simpy.Store(self.env, capacity=self.capacity)\n",
    "        self.pipes.append(pipe)\n",
    "        return pipe\n",
    "\n",
    "\n",
    "def message_generator(name, env, out_pipe):\n",
    "    \"\"\"A process which randomly generates messages.\"\"\"\n",
    "    while True:\n",
    "        # wait for next transmission\n",
    "        yield env.timeout(random.randint(6, 10))\n",
    "\n",
    "        # messages are time stamped to later check if the consumer was\n",
    "        # late getting them.  Note, using event.triggered to do this may\n",
    "        # result in failure due to FIFO nature of simulation yields.\n",
    "        # (i.e. if at the same env.now, message_generator puts a message\n",
    "        # in the pipe first and then message_consumer gets from pipe,\n",
    "        # the event.triggered will be True in the other order it will be\n",
    "        # False\n",
    "        msg = (env.now, '%s says hello at %d' % (name, env.now))\n",
    "        out_pipe.put(msg)\n",
    "\n",
    "\n",
    "def message_consumer(name, env, in_pipe):\n",
    "    \"\"\"A process which consumes messages.\"\"\"\n",
    "    while True:\n",
    "        # Get event for message pipe\n",
    "        msg = yield in_pipe.get()\n",
    "\n",
    "        if msg[0] < env.now:\n",
    "            # if message was already put into pipe, then\n",
    "            # message_consumer was late getting to it. Depending on what\n",
    "            # is being modeled this, may, or may not have some\n",
    "            # significance\n",
    "            print('LATE Getting Message: at time %d: %s received message: %s' %\n",
    "                  (env.now, name, msg[1]))\n",
    "\n",
    "        else:\n",
    "            # message_consumer is synchronized with message_generator\n",
    "            print('at time %d: %s received message: %s.' %\n",
    "                  (env.now, name, msg[1]))\n",
    "\n",
    "        # Process does some other work, which may result in missing messages\n",
    "        yield env.timeout(random.randint(4, 8))\n",
    "\n",
    "\n",
    "# Setup and start the simulation\n",
    "print('Process communication')\n",
    "random.seed(RANDOM_SEED)\n",
    "env = simpy.Environment()\n",
    "\n",
    "# For one-to-one or many-to-one type pipes, use Store\n",
    "pipe = simpy.Store(env)\n",
    "env.process(message_generator('Generator A', env, pipe))\n",
    "env.process(message_consumer('Consumer A', env, pipe))\n",
    "\n",
    "print('\\nOne-to-one pipe communication\\n')\n",
    "env.run(until=SIM_TIME)\n",
    "\n",
    "# For one-to many use BroadcastPipe\n",
    "# (Note: could also be used for one-to-one,many-to-one or many-to-many)\n",
    "env = simpy.Environment()\n",
    "bc_pipe = BroadcastPipe(env)\n",
    "\n",
    "env.process(message_generator('Generator A', env, bc_pipe))\n",
    "env.process(message_consumer('Consumer A', env, bc_pipe.get_output_conn()))\n",
    "env.process(message_consumer('Consumer B', env, bc_pipe.get_output_conn()))\n",
    "\n",
    "print('\\nOne-to-many pipe communication\\n')\n",
    "env.run(until=SIM_TIME)\n",
    "\n"
   ],
   "metadata": {
    "collapsed": false,
    "pycharm": {
     "name": "#%%\n",
     "is_executing": false
    }
   }
  },
  {
   "cell_type": "markdown",
   "source": [
    "### Event Latency\n",
    "\n"
   ],
   "metadata": {
    "collapsed": false,
    "pycharm": {
     "name": "#%% md\n"
    }
   }
  },
  {
   "cell_type": "code",
   "execution_count": 10,
   "outputs": [
    {
     "name": "stdout",
     "text": [
      "Event Latency\nRecibido a las 15 mientras Emisor envió esto a las 5\nRecibido a las 20 mientras Emisor envió esto a las 10\nRecibido a las 25 mientras Emisor envió esto a las 15\nRecibido a las 30 mientras Emisor envió esto a las 20\nRecibido a las 35 mientras Emisor envió esto a las 25\nRecibido a las 40 mientras Emisor envió esto a las 30\nRecibido a las 45 mientras Emisor envió esto a las 35\nRecibido a las 50 mientras Emisor envió esto a las 40\nRecibido a las 55 mientras Emisor envió esto a las 45\nRecibido a las 60 mientras Emisor envió esto a las 50\nRecibido a las 65 mientras Emisor envió esto a las 55\nRecibido a las 70 mientras Emisor envió esto a las 60\nRecibido a las 75 mientras Emisor envió esto a las 65\nRecibido a las 80 mientras Emisor envió esto a las 70\nRecibido a las 85 mientras Emisor envió esto a las 75\nRecibido a las 90 mientras Emisor envió esto a las 80\nRecibido a las 95 mientras Emisor envió esto a las 85\n"
     ],
     "output_type": "stream"
    }
   ],
   "source": [
    "import simpy\n",
    "\n",
    "\n",
    "SIM_DURATION = 100\n",
    "\n",
    "\n",
    "class Cable(object):\n",
    "    \"\"\"This class represents the propagation through a cable.\"\"\"\n",
    "    def __init__(self, env, delay):\n",
    "        self.env = env\n",
    "        self.delay = delay\n",
    "        self.store = simpy.Store(env)\n",
    "\n",
    "    def latency(self, value):\n",
    "        yield self.env.timeout(self.delay)\n",
    "        self.store.put(value)\n",
    "\n",
    "    def put(self, value):\n",
    "        self.env.process(self.latency(value))\n",
    "\n",
    "    def get(self):\n",
    "        return self.store.get()\n",
    "\n",
    "\n",
    "def sender(env, cable):\n",
    "    \"\"\"A process which randomly generates messages.\"\"\"\n",
    "    while True:\n",
    "        # wait for next transmission\n",
    "        yield env.timeout(5)\n",
    "        cable.put('Emisor envió esto a las %d' % env.now)\n",
    "\n",
    "\n",
    "def receiver(env, cable):\n",
    "    \"\"\"A process which consumes messages.\"\"\"\n",
    "    while True:\n",
    "        # Get event for message pipe\n",
    "        msg = yield cable.get()\n",
    "        print('Recibido a las %d mientras %s' % (env.now, msg))\n",
    "\n",
    "\n",
    "# Setup and start the simulation\n",
    "print('Event Latency')\n",
    "env = simpy.Environment()\n",
    "\n",
    "cable = Cable(env, 10)\n",
    "env.process(sender(env, cable))\n",
    "env.process(receiver(env, cable))\n",
    "\n",
    "env.run(until=SIM_DURATION)\n"
   ],
   "metadata": {
    "collapsed": false,
    "pycharm": {
     "name": "#%%\n",
     "is_executing": false
    }
   }
  }
 ],
 "metadata": {
  "language_info": {
   "codemirror_mode": {
    "name": "ipython",
    "version": 2
   },
   "file_extension": ".py",
   "mimetype": "text/x-python",
   "name": "python",
   "nbconvert_exporter": "python",
   "pygments_lexer": "ipython2",
   "version": "2.7.6"
  },
  "kernelspec": {
   "name": "python3",
   "language": "python",
   "display_name": "Python 3"
  },
  "pycharm": {
   "stem_cell": {
    "cell_type": "raw",
    "source": [],
    "metadata": {
     "collapsed": false
    }
   }
  }
 },
 "nbformat": 4,
 "nbformat_minor": 0
}